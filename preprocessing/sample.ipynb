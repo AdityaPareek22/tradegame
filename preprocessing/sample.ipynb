{
 "cells": [
  {
   "cell_type": "markdown",
   "metadata": {},
   "source": [
    "## Data import\n",
    "\n",
    "We have the tick-by-tick data for 15 currency pairs, given below\n",
    "\n",
    "    pairs = ['AUDJPY', 'AUDNZD', 'AUDUSD', 'CADJPY', 'CHFJPY', 'EURCHF', 'EURGBP', 'EURJPY',\n",
    "    'EURUSD', 'GBPJPY', 'GBPUSD', 'NZDUSD', 'USDCAD', 'USDCHF', 'USDJPY']\n",
    "\n",
    "We download the data for the currency pairs from [TrueFX](https://truefx.com) using the `fetch` script to generate URLs and piping the output to a script that downloads the files from the URLs.\n",
    "\n",
    "## Data structure\n",
    "\n",
    "The CSVs downloaded have the following column structure.\n",
    "\n",
    "    columns = ['name', 'timestamp', 'bid', 'ask']\n",
    "\n",
    " * _name_: The name of the currency pair\n",
    " * _timestamp_: Timestamp of the tick\n",
    " * _bid_: The price at which you can sell in the market\n",
    " * _ask_: The price at which you can buy in the market"
   ]
  },
  {
   "cell_type": "code",
   "execution_count": 14,
   "metadata": {
    "collapsed": false
   },
   "outputs": [
    {
     "name": "stdout",
     "output_type": "stream",
     "text": [
      "      name                   tick     bid     ask\n",
      "0  AUD/JPY  20120102 00:00:00.309  78.714  78.814\n",
      "1  AUD/JPY  20120102 00:00:00.311  78.716  78.812\n",
      "2  AUD/JPY  20120102 00:00:05.006  78.716  78.813\n",
      "3  AUD/JPY  20120102 00:00:05.006  78.721  78.811\n",
      "4  AUD/JPY  20120102 00:00:05.007  78.726  78.811\n"
     ]
    }
   ],
   "source": [
    "import pandas as pd\n",
    "import numpy as np\n",
    "\n",
    "data_df = pd.read_csv('./AUDJPY-2012-01.csv', header=None)\n",
    "\n",
    "data_df.columns = ['name', 'tick', 'bid', 'ask']\n",
    "\n",
    "print(data_df.head())"
   ]
  },
  {
   "cell_type": "markdown",
   "metadata": {
    "collapsed": true
   },
   "source": [
    "## Data preparation and feature extraction\n",
    "\n",
    "1. Resampling: Resample the data into 15-minute intervals.\n",
    "2. Add features: OHLCV (Open, High, Low, Close, Volume) for the intervals.\n",
    "\n",
    "\n",
    "The prepared data has columns:\n",
    "\n",
    "    columns = ['tick_start', 'tick_end', 'open', 'high', 'low', 'close', 'volume']"
   ]
  },
  {
   "cell_type": "code",
   "execution_count": 15,
   "metadata": {
    "collapsed": true
   },
   "outputs": [],
   "source": [
    "# Let the dataframe know the timestamp column\n",
    "\n",
    "data_df['tick'] = pd.to_datetime(data_df['tick'])"
   ]
  },
  {
   "cell_type": "code",
   "execution_count": 23,
   "metadata": {
    "collapsed": false
   },
   "outputs": [
    {
     "name": "stdout",
     "output_type": "stream",
     "text": [
      "      name                    tick     bid     ask\n",
      "0  AUD/JPY 2012-01-02 00:00:00.309  78.714  78.814\n",
      "1  AUD/JPY 2012-01-02 00:00:00.311  78.716  78.812\n",
      "2  AUD/JPY 2012-01-02 00:00:05.006  78.716  78.813\n",
      "3  AUD/JPY 2012-01-02 00:00:05.006  78.721  78.811\n",
      "4  AUD/JPY 2012-01-02 00:00:05.007  78.726  78.811\n"
     ]
    }
   ],
   "source": [
    "print(data_df.head())"
   ]
  },
  {
   "cell_type": "code",
   "execution_count": 26,
   "metadata": {
    "collapsed": false
   },
   "outputs": [],
   "source": [
    "# Drop unnecesarry column\n",
    "del data_df['name']"
   ]
  },
  {
   "cell_type": "code",
   "execution_count": 36,
   "metadata": {
    "collapsed": false
   },
   "outputs": [
    {
     "name": "stdout",
     "output_type": "stream",
     "text": [
      "    close    high     low    open      tick_end    tick_start  volume\n",
      "0  78.823  78.847  78.808  78.814  1.325463e+09  1.325462e+09     131\n",
      "1  78.824  78.836  78.761  78.822  1.325464e+09  1.325463e+09     138\n",
      "2  78.855  78.867  78.820  78.820  1.325465e+09  1.325464e+09      58\n",
      "3  78.844  78.857  78.803  78.857  1.325466e+09  1.325465e+09     535\n",
      "4  78.810  78.846  78.765  78.846  1.325467e+09  1.325466e+09     494\n",
      "             close         high          low         open      tick_end  \\\n",
      "count  1971.000000  1971.000000  1971.000000  1971.000000  1.971000e+03   \n",
      "mean     80.019732    80.059914    79.977959    80.018264  1.326681e+09   \n",
      "std       1.169100     1.170952     1.166206     1.169085  7.613004e+05   \n",
      "min      78.165000    78.166000    78.101000    78.165000  1.325463e+09   \n",
      "25%      79.155000    79.193000    79.121000    79.156000  1.326080e+09   \n",
      "50%      79.507000    79.560000    79.465000    79.505000  1.326714e+09   \n",
      "75%      80.915500    80.971500    80.878500    80.913000  1.327389e+09   \n",
      "max      82.811000    82.856000    82.770000    82.811000  1.328011e+09   \n",
      "\n",
      "         tick_start        volume  \n",
      "count  1.971000e+03   1971.000000  \n",
      "mean   1.326680e+09   1610.285642  \n",
      "std    7.612994e+05   1180.700695  \n",
      "min    1.325462e+09     21.000000  \n",
      "25%    1.326079e+09    875.000000  \n",
      "50%    1.326713e+09   1306.000000  \n",
      "75%    1.327388e+09   1991.000000  \n",
      "max    1.328010e+09  11985.000000  \n"
     ]
    }
   ],
   "source": [
    "last_time = data_df['tick'][0].timestamp()\n",
    "cur_price = data_df['ask'][0]\n",
    "\n",
    "# Each 15 minute interval is represented by the following variables.\n",
    "cur_interval = {'tick_start': last_time,\n",
    "                'tick_end': last_time,\n",
    "                'open': cur_price,\n",
    "                'high': cur_price,\n",
    "                'low': cur_price,\n",
    "                'close': cur_price,\n",
    "                'volume': 0}\n",
    "intervals = []\n",
    "\n",
    "# Sample the intervals from the raw data.\n",
    "for row in data_df.itertuples():\n",
    "    cur_time = row.tick.timestamp()\n",
    "    cur_price = row.ask\n",
    "    if cur_time - last_time > 900:\n",
    "        # Append this to the list of intervals.\n",
    "        intervals.append(cur_interval.copy())\n",
    "        \n",
    "        cur_interval = {'tick_start':cur_time,\n",
    "                'tick_end': cur_time,\n",
    "                'open': cur_price,\n",
    "                'high': cur_price,\n",
    "                'low': cur_price,\n",
    "                'close': cur_price,\n",
    "                'volume': 1}\n",
    "        last_time = cur_time\n",
    "    else:\n",
    "        cur_interval['tick_end'] = cur_time\n",
    "        cur_interval['close'] = cur_price\n",
    "        cur_interval['high'] = max(cur_price, cur_interval['high'])\n",
    "        cur_interval['low'] = min(cur_price, cur_interval['low'])\n",
    "        cur_interval['volume'] += 1\n",
    "\n",
    "        \n",
    "# The last remaining (incomplete) < 15-minute interval.\n",
    "intervals.append(cur_interval.copy())\n",
    "\n",
    "# Create a dataframe.\n",
    "processed_data = pd.DataFrame(intervals)\n",
    "\n",
    "print(processed_data.head())\n",
    "print(processed_data.describe())\n",
    "\n",
    "processed_data.to_csv('AUDJPY-2012-01_features.csv')"
   ]
  },
  {
   "cell_type": "code",
   "execution_count": null,
   "metadata": {
    "collapsed": true
   },
   "outputs": [],
   "source": []
  }
 ],
 "metadata": {
  "kernelspec": {
   "display_name": "Python 3",
   "language": "python",
   "name": "python3"
  },
  "language_info": {
   "codemirror_mode": {
    "name": "ipython",
    "version": 3
   },
   "file_extension": ".py",
   "mimetype": "text/x-python",
   "name": "python",
   "nbconvert_exporter": "python",
   "pygments_lexer": "ipython3",
   "version": "3.6.5"
  }
 },
 "nbformat": 4,
 "nbformat_minor": 0
}
