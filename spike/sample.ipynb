{
 "cells": [
  {
   "cell_type": "markdown",
   "metadata": {},
   "source": [
    "## Data import\n",
    "\n",
    "We have the tick-by-tick data for 15 currency pairs, given below\n",
    "\n",
    "    pairs = ['AUDJPY', 'AUDNZD', 'AUDUSD', 'CADJPY', 'CHFJPY', 'EURCHF', 'EURGBP', 'EURJPY',\n",
    "    'EURUSD', 'GBPJPY', 'GBPUSD', 'NZDUSD', 'USDCAD', 'USDCHF', 'USDJPY']\n",
    "\n",
    "We download the data for the currency pairs from [TrueFX](https://truefx.com) using the `fetch` script to generate URLs and piping the output to a script that downloads the files from the URLs.\n",
    "\n",
    "## Data structure\n",
    "\n",
    "The CSVs downloaded have the following column structure.\n",
    "\n",
    "    columns = ['name', 'timestamp', 'bid', 'ask']\n",
    "\n",
    " * _name_: The name of the currency pair\n",
    " * _timestamp_: Timestamp of the tick\n",
    " * _bid_: The price at which you can sell in the market\n",
    " * _ask_: The price at which you can buy in the market"
   ]
  },
  {
   "cell_type": "code",
   "execution_count": 14,
   "metadata": {
    "collapsed": false
   },
   "outputs": [
    {
     "name": "stdout",
     "output_type": "stream",
     "text": [
      "      name                   tick     bid     ask\n",
      "0  AUD/JPY  20120102 00:00:00.309  78.714  78.814\n",
      "1  AUD/JPY  20120102 00:00:00.311  78.716  78.812\n",
      "2  AUD/JPY  20120102 00:00:05.006  78.716  78.813\n",
      "3  AUD/JPY  20120102 00:00:05.006  78.721  78.811\n",
      "4  AUD/JPY  20120102 00:00:05.007  78.726  78.811\n"
     ]
    }
   ],
   "source": [
    "import pandas as pd\n",
    "import numpy as np\n",
    "\n",
    "data_df = pd.read_csv('./AUDJPY-2012-01.csv', header=None)\n",
    "\n",
    "data_df.columns = ['name', 'tick', 'bid', 'ask']\n",
    "\n",
    "print(data_df.head())"
   ]
  },
  {
   "cell_type": "markdown",
   "metadata": {
    "collapsed": true
   },
   "source": [
    "## Data preparation and feature extraction\n",
    "\n",
    "1. Resampling: Resample the data into 15-minute intervals.\n",
    "2. Add features: OHLCV (Open, High, Low, Close, Volume) for the intervals.\n",
    "\n",
    "\n",
    "The prepared data has columns:\n",
    "\n",
    "    columns = ['tick_start', 'tick_end', 'open', 'high', 'low', 'close', 'volume']"
   ]
  },
  {
   "cell_type": "code",
   "execution_count": 15,
   "metadata": {
    "collapsed": true
   },
   "outputs": [],
   "source": [
    "# Let the dataframe know the timestamp column\n",
    "\n",
    "data_df['tick'] = pd.to_datetime(data_df['tick'])"
   ]
  },
  {
   "cell_type": "code",
   "execution_count": 23,
   "metadata": {
    "collapsed": false
   },
   "outputs": [
    {
     "name": "stdout",
     "output_type": "stream",
     "text": [
      "      name                    tick     bid     ask\n",
      "0  AUD/JPY 2012-01-02 00:00:00.309  78.714  78.814\n",
      "1  AUD/JPY 2012-01-02 00:00:00.311  78.716  78.812\n",
      "2  AUD/JPY 2012-01-02 00:00:05.006  78.716  78.813\n",
      "3  AUD/JPY 2012-01-02 00:00:05.006  78.721  78.811\n",
      "4  AUD/JPY 2012-01-02 00:00:05.007  78.726  78.811\n"
     ]
    }
   ],
   "source": [
    "print(data_df.head())"
   ]
  },
  {
   "cell_type": "code",
   "execution_count": 26,
   "metadata": {
    "collapsed": false
   },
   "outputs": [],
   "source": [
    "# Drop unnecesarry column\n",
    "del data_df['name']"
   ]
  },
  {
   "cell_type": "code",
   "execution_count": 43,
   "metadata": {
    "collapsed": false
   },
   "outputs": [
    {
     "name": "stdout",
     "output_type": "stream",
     "text": [
      "    close    high     low    open                tick_end  \\\n",
      "0  78.888  78.902  78.474  78.814 2012-01-02 23:59:59.540   \n",
      "1  79.575  79.745  78.887  78.889 2012-01-04 00:00:02.235   \n",
      "2  79.326  79.593  79.103  79.575 2012-01-05 00:00:04.948   \n",
      "3  79.118  79.619  78.699  79.329 2012-01-06 00:00:05.010   \n",
      "4  78.751  79.504  78.660  79.115 2012-01-06 21:59:55.307   \n",
      "\n",
      "               tick_start  volume  \n",
      "0 2012-01-02 00:00:00.309   27727  \n",
      "1 2012-01-03 00:00:04.295  131203  \n",
      "2 2012-01-04 00:00:05.011  155614  \n",
      "3 2012-01-05 00:00:05.059  209396  \n",
      "4 2012-01-06 00:00:05.087  156850  \n",
      "           close       high       low       open        volume\n",
      "count  25.000000  25.000000  25.00000  25.000000      25.00000\n",
      "mean   80.200560  80.460680  79.74280  80.065840  126954.92000\n",
      "std     1.156093   1.201581   1.13875   1.166029   66953.82799\n",
      "min    78.685000  78.810000  78.10100  78.407000    1021.00000\n",
      "25%    79.270000  79.508000  78.81300  79.264000   94934.00000\n",
      "50%    79.758000  79.870000  79.32900  79.575000  155614.00000\n",
      "75%    81.126000  81.547000  80.67000  80.856000  166561.00000\n",
      "max    82.381000  82.856000  82.18900  82.379000  219915.00000\n"
     ]
    }
   ],
   "source": [
    "last_time = data_df['tick'][0]\n",
    "cur_price = data_df['ask'][0]\n",
    "\n",
    "# Each 15 minute interval is represented by the following variables.\n",
    "cur_interval = {'tick_start': last_time,\n",
    "                'tick_end': last_time,\n",
    "                'open': cur_price,\n",
    "                'high': cur_price,\n",
    "                'low': cur_price,\n",
    "                'close': cur_price,\n",
    "                'volume': 0}\n",
    "intervals = []\n",
    "\n",
    "# Sample the intervals from the raw data.\n",
    "for row in data_df.itertuples():\n",
    "    cur_time = row.tick\n",
    "    cur_price = row.ask\n",
    "    if cur_time.timestamp() - last_time.timestamp() > 3600*24:\n",
    "        # Append this to the list of intervals.\n",
    "        intervals.append(cur_interval.copy())\n",
    "        \n",
    "        cur_interval = {'tick_start':cur_time,\n",
    "                'tick_end': cur_time,\n",
    "                'open': cur_price,\n",
    "                'high': cur_price,\n",
    "                'low': cur_price,\n",
    "                'close': cur_price,\n",
    "                'volume': 1}\n",
    "        last_time = cur_time\n",
    "    else:\n",
    "        cur_interval['tick_end'] = cur_time\n",
    "        cur_interval['close'] = cur_price\n",
    "        cur_interval['high'] = max(cur_price, cur_interval['high'])\n",
    "        cur_interval['low'] = min(cur_price, cur_interval['low'])\n",
    "        cur_interval['volume'] += 1\n",
    "\n",
    "        \n",
    "# The last remaining (incomplete) interval.\n",
    "intervals.append(cur_interval.copy())\n",
    "\n",
    "# Create a dataframe.\n",
    "processed_data = pd.DataFrame(intervals)\n",
    "\n",
    "print(processed_data.head())\n",
    "print(processed_data.describe())\n",
    "\n",
    "processed_data.to_csv('AUDJPY-2012-01_daily.csv', index=False)"
   ]
  },
  {
   "cell_type": "code",
   "execution_count": 44,
   "metadata": {
    "collapsed": false
   },
   "outputs": [
    {
     "name": "stdout",
     "output_type": "stream",
     "text": [
      "1000 loops, best of 3: 846 µs per loop\n"
     ]
    }
   ],
   "source": [
    "s = pd.Series(pd.to_datetime(np.arange(100000), unit='ms'))\n",
    "%timeit s - s.shift()"
   ]
  },
  {
   "cell_type": "code",
   "execution_count": null,
   "metadata": {
    "collapsed": true
   },
   "outputs": [],
   "source": []
  }
 ],
 "metadata": {
  "kernelspec": {
   "display_name": "Python 3",
   "language": "python",
   "name": "python3"
  },
  "language_info": {
   "codemirror_mode": {
    "name": "ipython",
    "version": 3
   },
   "file_extension": ".py",
   "mimetype": "text/x-python",
   "name": "python",
   "nbconvert_exporter": "python",
   "pygments_lexer": "ipython3",
   "version": "3.6.5"
  }
 },
 "nbformat": 4,
 "nbformat_minor": 0
}
